{
 "cells": [
  {
   "cell_type": "code",
   "execution_count": 1039,
   "id": "3bc2909e",
   "metadata": {},
   "outputs": [
    {
     "name": "stdout",
     "output_type": "stream",
     "text": [
      "[[None, None, None, None, 8, None, None, 3, 7], [None, 7, None, 5, 1, None, None, None, None], [1, 8, 9, None, 7, 3, None, 4, 5], [7, None, 8, 9, None, 4, None, 2, 3], [3, 9, None, 8, 2, 6, 5, None, 1], [None, None, 5, 1, None, 7, None, None, 4], [9, 4, 1, 3, 6, None, None, None, None], [None, 6, None, None, None, None, 3, None, 9], [5, None, None, 2, None, None, None, 8, None]]\n",
      "+-------+-------+-------+\n",
      "|       |   8   |   3 7 |\n",
      "|   7   | 5 1   |       |\n",
      "| 1 8 9 |   7 3 |   4 5 |\n",
      "+-------+-------+-------+\n",
      "| 7   8 | 9   4 |   2 3 |\n",
      "| 3 9   | 8 2 6 | 5   1 |\n",
      "|     5 | 1   7 |     4 |\n",
      "+-------+-------+-------+\n",
      "| 9 4 1 | 3 6   |       |\n",
      "|   6   |       | 3   9 |\n",
      "| 5     | 2     |   8   |\n",
      "+-------+-------+-------+\n",
      "\n",
      "+-------+-------+-------+\n",
      "| 2 5 6 | 4 8 9 | 1 3 7 |\n",
      "| 4 7 3 | 5 1 2 | 9 6 8 |\n",
      "| 1 8 9 | 6 7 3 | 2 4 5 |\n",
      "+-------+-------+-------+\n",
      "| 7 1 8 | 9 5 4 | 6 2 3 |\n",
      "| 3 9 4 | 8 2 6 | 5 7 1 |\n",
      "| 6 2 5 | 1 3 7 | 8 9 4 |\n",
      "+-------+-------+-------+\n",
      "| 9 4 1 | 3 6 8 | 7 5 2 |\n",
      "| 8 6 2 | 7 4 5 | 3 1 9 |\n",
      "| 5 3 7 | 2 9 1 | 4 8 6 |\n",
      "+-------+-------+-------+\n",
      "\n"
     ]
    }
   ],
   "source": [
    "from sudoku import Sudoku\n",
    "# Initializes a Sudoku puzzle with 3 x 3 sub-grid and\n",
    "# generates a puzzle with half of the cells empty\n",
    "puzzle = Sudoku(3).difficulty(0.5)\n",
    "print(puzzle.board)\n",
    "puzzle.show()\n",
    "p =puzzle.solve()\n",
    "p.show()"
   ]
  },
  {
   "cell_type": "code",
   "execution_count": 1040,
   "id": "cd6f6540",
   "metadata": {},
   "outputs": [
    {
     "data": {
      "text/plain": [
       "NoneType"
      ]
     },
     "execution_count": 1040,
     "metadata": {},
     "output_type": "execute_result"
    }
   ],
   "source": [
    "type(puzzle.board[0][3])"
   ]
  },
  {
   "cell_type": "code",
   "execution_count": 1041,
   "id": "f5e2b6cf",
   "metadata": {},
   "outputs": [
    {
     "name": "stdout",
     "output_type": "stream",
     "text": [
      "[[None, None, None, None, 8, None, None, 3, 7], [None, 7, None, 5, 1, None, None, None, None], [1, 8, 9, None, 7, 3, None, 4, 5], [7, None, 8, 9, None, 4, None, 2, 3], [3, 9, None, 8, 2, 6, 5, None, 1], [None, None, 5, 1, None, 7, None, None, 4], [9, 4, 1, 3, 6, None, None, None, None], [None, 6, None, None, None, None, 3, None, 9], [5, None, None, 2, None, None, None, 8, None]]\n",
      "Clean -----------------------------\n",
      "[[0, 0, 0, 0, 8, 0, 0, 3, 7], [0, 7, 0, 5, 1, 0, 0, 0, 0], [1, 8, 9, 0, 7, 3, 0, 4, 5], [7, 0, 8, 9, 0, 4, 0, 2, 3], [3, 9, 0, 8, 2, 6, 5, 0, 1], [0, 0, 5, 1, 0, 7, 0, 0, 4], [9, 4, 1, 3, 6, 0, 0, 0, 0], [0, 6, 0, 0, 0, 0, 3, 0, 9], [5, 0, 0, 2, 0, 0, 0, 8, 0]]\n"
     ]
    }
   ],
   "source": [
    "#Cleaning up the board None -> 0\n",
    "grid = puzzle.board\n",
    "print(grid)\n",
    "\n",
    "for i in range(0,len(grid)):\n",
    "    for j in range(0,len(grid[i])):\n",
    "        if grid[i][j]==None:\n",
    "            grid[i][j]=0\n",
    "            \n",
    "\n",
    "print(\"Clean -----------------------------\")            \n",
    "print(grid)"
   ]
  },
  {
   "cell_type": "code",
   "execution_count": 1042,
   "id": "f3ff777e",
   "metadata": {},
   "outputs": [
    {
     "name": "stdout",
     "output_type": "stream",
     "text": [
      "[[0 0 0 0 8 0 0 3 7]\n",
      " [0 7 0 5 1 0 0 0 0]\n",
      " [1 8 9 0 7 3 0 4 5]\n",
      " [7 0 8 9 0 4 0 2 3]\n",
      " [3 9 0 8 2 6 5 0 1]\n",
      " [0 0 5 1 0 7 0 0 4]\n",
      " [9 4 1 3 6 0 0 0 0]\n",
      " [0 6 0 0 0 0 3 0 9]\n",
      " [5 0 0 2 0 0 0 8 0]]\n"
     ]
    }
   ],
   "source": [
    "#To print in a readable format\n",
    "import numpy as np\n",
    "print(np.matrix(grid))"
   ]
  },
  {
   "cell_type": "code",
   "execution_count": 1043,
   "id": "ccbb95d7",
   "metadata": {},
   "outputs": [],
   "source": [
    "#defining grid manually\n",
    "#grid = [[0, 0, 0, 0, 0, 8, 0, 6, 0], \n",
    "#        [0, 1, 5, 0, 0, 0, 0, 2, 0], \n",
    "#        [0, 0, 5, 2, 0, 7, 4, 8, 0], \n",
    "#        [3, 5, 7, 0, 2, 0, 6, 0, 1], \n",
    "#        [0, 9, 0, 0, 0, 0, 0, 3, 0], \n",
    "#        [8, 1, 0, 6, 0, 0, 0, 0, 0], \n",
    "#        [5, 0, 1, 0, 0, 0, 0, 2, 4], \n",
    "#        [4, 7, 3, 0, 0, 2, 0, 0, 5], \n",
    "#        [0, 6, 0, 5, 0, 1, 8, 0, 0]]"
   ]
  },
  {
   "cell_type": "code",
   "execution_count": 1044,
   "id": "ce940c6e",
   "metadata": {},
   "outputs": [],
   "source": [
    "def isnumpossible(x,y,n):\n",
    "    global grid\n",
    "    for i in range(0,len(grid)):\n",
    "        if(n==grid[x][i]):\n",
    "            #print(\"1st\")\n",
    "            return False\n",
    "    for i in range(0,len(grid[y])):\n",
    "        if(n==grid[i][y]):\n",
    "            #print(\"2nd\")\n",
    "            return False\n",
    "    l=(x//3)*3\n",
    "    m=(y//3)*3\n",
    "    for i in range(m,m+3):\n",
    "        for j in range(l,l+3):\n",
    "            #print(\"Checking\",i,j)\n",
    "            if(n==grid[j][i]):\n",
    "                #print(i,j,n)\n",
    "                #print(\"3rd\")\n",
    "                return False\n",
    "    return True"
   ]
  },
  {
   "cell_type": "code",
   "execution_count": 1045,
   "id": "d49ee923",
   "metadata": {},
   "outputs": [
    {
     "data": {
      "text/plain": [
       "True"
      ]
     },
     "execution_count": 1045,
     "metadata": {},
     "output_type": "execute_result"
    }
   ],
   "source": [
    "isnumpossible(0,6,9)"
   ]
  },
  {
   "cell_type": "code",
   "execution_count": 1046,
   "id": "0e73c9a9",
   "metadata": {},
   "outputs": [],
   "source": [
    "def solved():\n",
    "    global grid\n",
    "    for i in range(0,len(grid)):\n",
    "        for j in range(0,len(grid)):\n",
    "            if(grid[i][j]==0):\n",
    "                return False\n",
    "    return True"
   ]
  },
  {
   "cell_type": "code",
   "execution_count": 1047,
   "id": "135b8875",
   "metadata": {},
   "outputs": [],
   "source": [
    "def solver():\n",
    "    global grid\n",
    "    #global res_grid\n",
    "    #print(np.matrix(grid))\n",
    "    for i in range(0,len(grid)):\n",
    "        #print(i)\n",
    "        for j in range(0,len(grid[i])):\n",
    "            #print(i)\n",
    "            #print(\"---CHECKING if \",i,j, \"is zero\")\n",
    "            #if(i==(len(grid)-1) and j==(len(grid)-1)):\n",
    "            #    if(grid[i][j]!=0):\n",
    "            #        print(\"STOPPINGGG\")\n",
    "            #        return\n",
    "            if(grid[i][j]==0):\n",
    "                #print(\"next zero at\",i,j,grid[i][j])\n",
    "                for x in range(1,10):\n",
    "                    #print(\"-------------Passed: \",i,j,x)\n",
    "                    if(isnumpossible(i,j,x)):\n",
    "                        #print(\"-------------Qualified: \",i,j,x)\n",
    "                        grid[i][j] = x\n",
    "                        #print(len(grid)-1)\n",
    "                        #if(i==(len(grid)-1) and j==(len(grid)-1)):\n",
    "                        #    print(np.matrix(grid))\n",
    "                        #    print(\"LAST\")\n",
    "                        #    return\n",
    "                        #print(\"-------------\")\n",
    "                        #print(np.matrix(grid))\n",
    "                        #if(i==8 and j==8):\n",
    "                        #    res_grid = grid\n",
    "                        solver()\n",
    "                        grid[i][j]=0\n",
    "                        #print(\"------Setting \",i,j,\"To ZERO\")\n",
    "                return\n",
    "    print(np.matrix(grid))\n",
    "    #Comment the below return if multiple solutions needed\n",
    "    return"
   ]
  },
  {
   "cell_type": "code",
   "execution_count": 1048,
   "id": "30f99e64",
   "metadata": {},
   "outputs": [
    {
     "name": "stdout",
     "output_type": "stream",
     "text": [
      "[[2 5 6 4 8 9 1 3 7]\n",
      " [4 7 3 5 1 2 9 6 8]\n",
      " [1 8 9 6 7 3 2 4 5]\n",
      " [7 1 8 9 5 4 6 2 3]\n",
      " [3 9 4 8 2 6 5 7 1]\n",
      " [6 2 5 1 3 7 8 9 4]\n",
      " [9 4 1 3 6 8 7 5 2]\n",
      " [8 6 2 7 4 5 3 1 9]\n",
      " [5 3 7 2 9 1 4 8 6]]\n"
     ]
    }
   ],
   "source": [
    "solver()"
   ]
  },
  {
   "cell_type": "code",
   "execution_count": null,
   "id": "e250e5b7",
   "metadata": {},
   "outputs": [],
   "source": []
  }
 ],
 "metadata": {
  "kernelspec": {
   "display_name": "Python 3 (ipykernel)",
   "language": "python",
   "name": "python3"
  },
  "language_info": {
   "codemirror_mode": {
    "name": "ipython",
    "version": 3
   },
   "file_extension": ".py",
   "mimetype": "text/x-python",
   "name": "python",
   "nbconvert_exporter": "python",
   "pygments_lexer": "ipython3",
   "version": "3.11.3"
  }
 },
 "nbformat": 4,
 "nbformat_minor": 5
}
